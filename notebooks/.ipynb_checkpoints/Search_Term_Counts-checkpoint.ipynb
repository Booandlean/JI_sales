{
 "cells": [
  {
   "cell_type": "markdown",
   "metadata": {},
   "source": [
    "## Imports"
   ]
  },
  {
   "cell_type": "code",
   "execution_count": 1,
   "metadata": {},
   "outputs": [],
   "source": [
    "import numpy as np\n",
    "import pandas as pd\n",
    "\n",
    "import matplotlib.pyplot as plt\n",
    "import seaborn as sns"
   ]
  },
  {
   "cell_type": "markdown",
   "metadata": {},
   "source": [
    "## DataFrame"
   ]
  },
  {
   "cell_type": "code",
   "execution_count": 2,
   "metadata": {},
   "outputs": [],
   "source": [
    "pd.set_option(\"max_columns\", 30)"
   ]
  },
  {
   "cell_type": "code",
   "execution_count": 3,
   "metadata": {},
   "outputs": [
    {
     "data": {
      "text/html": [
       "<div>\n",
       "<style scoped>\n",
       "    .dataframe tbody tr th:only-of-type {\n",
       "        vertical-align: middle;\n",
       "    }\n",
       "\n",
       "    .dataframe tbody tr th {\n",
       "        vertical-align: top;\n",
       "    }\n",
       "\n",
       "    .dataframe thead th {\n",
       "        text-align: right;\n",
       "    }\n",
       "</style>\n",
       "<table border=\"1\" class=\"dataframe\">\n",
       "  <thead>\n",
       "    <tr style=\"text-align: right;\">\n",
       "      <th></th>\n",
       "      <th>Start_Date</th>\n",
       "      <th>End_Date</th>\n",
       "      <th>Portfolio_name</th>\n",
       "      <th>Currency</th>\n",
       "      <th>Campaign_Name</th>\n",
       "      <th>Ad_Group_Name</th>\n",
       "      <th>Targeting</th>\n",
       "      <th>Match_Type</th>\n",
       "      <th>Customer_Search_Term</th>\n",
       "      <th>Impressions</th>\n",
       "      <th>Clicks</th>\n",
       "      <th>Click-Thru_Rate_(CTR)</th>\n",
       "      <th>Cost_Per_Click_(CPC)</th>\n",
       "      <th>Spend</th>\n",
       "      <th>7_Day_Total_Sales_</th>\n",
       "      <th>Total_Advertising_Cost_of_Sales_(ACoS)_</th>\n",
       "      <th>Total_Return_on_Advertising_Spend_(RoAS)</th>\n",
       "      <th>7_Day_Total_Orders_(#)</th>\n",
       "      <th>7_Day_Total_Units_(#)</th>\n",
       "      <th>7_Day_Conversion_Rate</th>\n",
       "      <th>7_Day_Advertised_SKU_Units_(#)</th>\n",
       "      <th>7_Day_Other_SKU_Units_(#)</th>\n",
       "      <th>7_Day_Advertised_SKU_Sales_</th>\n",
       "      <th>7_Day_Other_SKU_Sales_</th>\n",
       "    </tr>\n",
       "  </thead>\n",
       "  <tbody>\n",
       "    <tr>\n",
       "      <td>0</td>\n",
       "      <td>2021-01-07</td>\n",
       "      <td>2021-01-07</td>\n",
       "      <td>Not grouped</td>\n",
       "      <td>USD</td>\n",
       "      <td>Advertise Catalog_ONB 10-23-2019 21ea</td>\n",
       "      <td>nosh - Kitchen</td>\n",
       "      <td>kitchen knife sheath</td>\n",
       "      <td>BROAD</td>\n",
       "      <td>2 in kitchen knife sheath</td>\n",
       "      <td>2</td>\n",
       "      <td>1</td>\n",
       "      <td>50.00%</td>\n",
       "      <td>$0.57</td>\n",
       "      <td>$0.57</td>\n",
       "      <td>$0.00</td>\n",
       "      <td>NaN</td>\n",
       "      <td>0.00</td>\n",
       "      <td>0</td>\n",
       "      <td>0</td>\n",
       "      <td>0.00%</td>\n",
       "      <td>0</td>\n",
       "      <td>0</td>\n",
       "      <td>$0.00</td>\n",
       "      <td>$0.00</td>\n",
       "    </tr>\n",
       "    <tr>\n",
       "      <td>1</td>\n",
       "      <td>2021-01-12</td>\n",
       "      <td>2021-01-12</td>\n",
       "      <td>Not grouped</td>\n",
       "      <td>USD</td>\n",
       "      <td>Advertise Catalog_ONB 10-23-2019 21ea</td>\n",
       "      <td>nosh - Kitchen</td>\n",
       "      <td>kitchen knife sheath</td>\n",
       "      <td>BROAD</td>\n",
       "      <td>4 inch blade sheath for kitchen knife</td>\n",
       "      <td>4</td>\n",
       "      <td>1</td>\n",
       "      <td>25.00%</td>\n",
       "      <td>$0.66</td>\n",
       "      <td>$0.66</td>\n",
       "      <td>$12.99</td>\n",
       "      <td>5.08%</td>\n",
       "      <td>19.68</td>\n",
       "      <td>1</td>\n",
       "      <td>1</td>\n",
       "      <td>100.00%</td>\n",
       "      <td>1</td>\n",
       "      <td>0</td>\n",
       "      <td>$12.99</td>\n",
       "      <td>$0.00</td>\n",
       "    </tr>\n",
       "    <tr>\n",
       "      <td>2</td>\n",
       "      <td>2021-01-12</td>\n",
       "      <td>2021-01-12</td>\n",
       "      <td>Not grouped</td>\n",
       "      <td>USD</td>\n",
       "      <td>Advertise Catalog_ONB 10-23-2019 21ea</td>\n",
       "      <td>nosh - Kitchen</td>\n",
       "      <td>kitchen knife sheath</td>\n",
       "      <td>BROAD</td>\n",
       "      <td>6.5 inch leather sheath for kitchen knife</td>\n",
       "      <td>2</td>\n",
       "      <td>1</td>\n",
       "      <td>50.00%</td>\n",
       "      <td>$0.47</td>\n",
       "      <td>$0.47</td>\n",
       "      <td>$0.00</td>\n",
       "      <td>NaN</td>\n",
       "      <td>0.00</td>\n",
       "      <td>0</td>\n",
       "      <td>0</td>\n",
       "      <td>0.00%</td>\n",
       "      <td>0</td>\n",
       "      <td>0</td>\n",
       "      <td>$0.00</td>\n",
       "      <td>$0.00</td>\n",
       "    </tr>\n",
       "    <tr>\n",
       "      <td>3</td>\n",
       "      <td>2021-01-12</td>\n",
       "      <td>2021-01-12</td>\n",
       "      <td>Not grouped</td>\n",
       "      <td>USD</td>\n",
       "      <td>Advertise Catalog_ONB 10-23-2019 21ea</td>\n",
       "      <td>nosh - Kitchen</td>\n",
       "      <td>kitchen knife sheath</td>\n",
       "      <td>BROAD</td>\n",
       "      <td>clear plastic knife sheaths for kitchen knives</td>\n",
       "      <td>3</td>\n",
       "      <td>1</td>\n",
       "      <td>33.33%</td>\n",
       "      <td>$0.47</td>\n",
       "      <td>$0.47</td>\n",
       "      <td>$12.99</td>\n",
       "      <td>3.62%</td>\n",
       "      <td>27.64</td>\n",
       "      <td>1</td>\n",
       "      <td>1</td>\n",
       "      <td>100.00%</td>\n",
       "      <td>1</td>\n",
       "      <td>0</td>\n",
       "      <td>$12.99</td>\n",
       "      <td>$0.00</td>\n",
       "    </tr>\n",
       "    <tr>\n",
       "      <td>4</td>\n",
       "      <td>2020-12-28</td>\n",
       "      <td>2020-12-28</td>\n",
       "      <td>Not grouped</td>\n",
       "      <td>USD</td>\n",
       "      <td>Advertise Catalog_ONB 10-23-2019 21ea</td>\n",
       "      <td>nosh - Kitchen</td>\n",
       "      <td>kitchen knife sheath</td>\n",
       "      <td>BROAD</td>\n",
       "      <td>kitchen knife blade sheath sleeve</td>\n",
       "      <td>13</td>\n",
       "      <td>1</td>\n",
       "      <td>7.69%</td>\n",
       "      <td>$0.60</td>\n",
       "      <td>$0.60</td>\n",
       "      <td>$0.00</td>\n",
       "      <td>NaN</td>\n",
       "      <td>0.00</td>\n",
       "      <td>0</td>\n",
       "      <td>0</td>\n",
       "      <td>0.00%</td>\n",
       "      <td>0</td>\n",
       "      <td>0</td>\n",
       "      <td>$0.00</td>\n",
       "      <td>$0.00</td>\n",
       "    </tr>\n",
       "  </tbody>\n",
       "</table>\n",
       "</div>"
      ],
      "text/plain": [
       "   Start_Date    End_Date Portfolio_name Currency  \\\n",
       "0  2021-01-07  2021-01-07    Not grouped      USD   \n",
       "1  2021-01-12  2021-01-12    Not grouped      USD   \n",
       "2  2021-01-12  2021-01-12    Not grouped      USD   \n",
       "3  2021-01-12  2021-01-12    Not grouped      USD   \n",
       "4  2020-12-28  2020-12-28    Not grouped      USD   \n",
       "\n",
       "                           Campaign_Name   Ad_Group_Name  \\\n",
       "0  Advertise Catalog_ONB 10-23-2019 21ea  nosh - Kitchen   \n",
       "1  Advertise Catalog_ONB 10-23-2019 21ea  nosh - Kitchen   \n",
       "2  Advertise Catalog_ONB 10-23-2019 21ea  nosh - Kitchen   \n",
       "3  Advertise Catalog_ONB 10-23-2019 21ea  nosh - Kitchen   \n",
       "4  Advertise Catalog_ONB 10-23-2019 21ea  nosh - Kitchen   \n",
       "\n",
       "              Targeting Match_Type  \\\n",
       "0  kitchen knife sheath      BROAD   \n",
       "1  kitchen knife sheath      BROAD   \n",
       "2  kitchen knife sheath      BROAD   \n",
       "3  kitchen knife sheath      BROAD   \n",
       "4  kitchen knife sheath      BROAD   \n",
       "\n",
       "                             Customer_Search_Term  Impressions  Clicks  \\\n",
       "0                       2 in kitchen knife sheath            2       1   \n",
       "1           4 inch blade sheath for kitchen knife            4       1   \n",
       "2       6.5 inch leather sheath for kitchen knife            2       1   \n",
       "3  clear plastic knife sheaths for kitchen knives            3       1   \n",
       "4               kitchen knife blade sheath sleeve           13       1   \n",
       "\n",
       "  Click-Thru_Rate_(CTR) Cost_Per_Click_(CPC)   Spend 7_Day_Total_Sales_  \\\n",
       "0                50.00%               $0.57   $0.57              $0.00    \n",
       "1                25.00%               $0.66   $0.66             $12.99    \n",
       "2                50.00%               $0.47   $0.47              $0.00    \n",
       "3                33.33%               $0.47   $0.47             $12.99    \n",
       "4                 7.69%               $0.60   $0.60              $0.00    \n",
       "\n",
       "  Total_Advertising_Cost_of_Sales_(ACoS)_  \\\n",
       "0                                     NaN   \n",
       "1                                   5.08%   \n",
       "2                                     NaN   \n",
       "3                                   3.62%   \n",
       "4                                     NaN   \n",
       "\n",
       "   Total_Return_on_Advertising_Spend_(RoAS)  7_Day_Total_Orders_(#)  \\\n",
       "0                                      0.00                       0   \n",
       "1                                     19.68                       1   \n",
       "2                                      0.00                       0   \n",
       "3                                     27.64                       1   \n",
       "4                                      0.00                       0   \n",
       "\n",
       "   7_Day_Total_Units_(#) 7_Day_Conversion_Rate  \\\n",
       "0                      0                 0.00%   \n",
       "1                      1               100.00%   \n",
       "2                      0                 0.00%   \n",
       "3                      1               100.00%   \n",
       "4                      0                 0.00%   \n",
       "\n",
       "   7_Day_Advertised_SKU_Units_(#)  7_Day_Other_SKU_Units_(#)  \\\n",
       "0                               0                          0   \n",
       "1                               1                          0   \n",
       "2                               0                          0   \n",
       "3                               1                          0   \n",
       "4                               0                          0   \n",
       "\n",
       "  7_Day_Advertised_SKU_Sales_ 7_Day_Other_SKU_Sales_  \n",
       "0                      $0.00                  $0.00   \n",
       "1                     $12.99                  $0.00   \n",
       "2                      $0.00                  $0.00   \n",
       "3                     $12.99                  $0.00   \n",
       "4                      $0.00                  $0.00   "
      ]
     },
     "execution_count": 3,
     "metadata": {},
     "output_type": "execute_result"
    }
   ],
   "source": [
    "df = df_CM_raw = pd.read_csv('../amz_reports/JICM_.csv')\n",
    "df.columns = df.columns.str.replace(' ', '_')\n",
    "df.head()"
   ]
  },
  {
   "cell_type": "code",
   "execution_count": 4,
   "metadata": {},
   "outputs": [
    {
     "data": {
      "text/plain": [
       "(248, 24)"
      ]
     },
     "execution_count": 4,
     "metadata": {},
     "output_type": "execute_result"
    }
   ],
   "source": [
    "df.shape"
   ]
  },
  {
   "cell_type": "code",
   "execution_count": 5,
   "metadata": {},
   "outputs": [
    {
     "data": {
      "text/plain": [
       "0     200\n",
       "1      37\n",
       "2       6\n",
       "4       3\n",
       "10      1\n",
       "3       1\n",
       "Name: 7_Day_Total_Orders_(#), dtype: int64"
      ]
     },
     "execution_count": 5,
     "metadata": {},
     "output_type": "execute_result"
    }
   ],
   "source": [
    "df['7_Day_Total_Orders_(#)'].value_counts()"
   ]
  },
  {
   "cell_type": "markdown",
   "metadata": {},
   "source": [
    "## Examples"
   ]
  },
  {
   "cell_type": "code",
   "execution_count": 6,
   "metadata": {},
   "outputs": [
    {
     "data": {
      "text/plain": [
       "(48, 24)"
      ]
     },
     "execution_count": 6,
     "metadata": {},
     "output_type": "execute_result"
    }
   ],
   "source": [
    "df_s = df[(df['7_Day_Total_Orders_(#)'] > 0)]\n",
    "df_s.shape"
   ]
  },
  {
   "cell_type": "code",
   "execution_count": 7,
   "metadata": {},
   "outputs": [
    {
     "data": {
      "text/plain": [
       "(200, 24)"
      ]
     },
     "execution_count": 7,
     "metadata": {},
     "output_type": "execute_result"
    }
   ],
   "source": [
    "df_ns = df[(df['7_Day_Total_Orders_(#)'] == 0)]\n",
    "df_ns.shape"
   ]
  },
  {
   "cell_type": "markdown",
   "metadata": {},
   "source": [
    "Way more no sale than sale instances, but it'll have to do"
   ]
  },
  {
   "cell_type": "code",
   "execution_count": 8,
   "metadata": {},
   "outputs": [
    {
     "data": {
      "text/plain": [
       "1               4 inch blade sheath for kitchen knife\n",
       "3      clear plastic knife sheaths for kitchen knives\n",
       "5                                kitchen knife sheath\n",
       "10                               knife sheath kitchen\n",
       "12          sheath cover for 6” kitchen utility knife\n",
       "32                        blade saver knife protector\n",
       "35                              knife blade protector\n",
       "41                         edge guard knife protector\n",
       "46                                   knife edge guard\n",
       "49                                 knife edge guard 9\n",
       "60                                    5.5 knife guard\n",
       "70                                 8 inch knife guard\n",
       "88                                  chefs knife guard\n",
       "91                              ergo chef knife guard\n",
       "92                            ergo fillet knife guard\n",
       "97                       global universal knife guard\n",
       "99                                        guard knife\n",
       "106                                  knife edge guard\n",
       "109                                       knife guard\n",
       "112                                knife guard 3 inch\n",
       "114                                knife guard 4 inch\n",
       "126                                   knife guard set\n",
       "132                                  knife guards set\n",
       "134                             knife protector guard\n",
       "155                               messer knife guards\n",
       "159                                  nosh knife guard\n",
       "160                        nosh universal knife guard\n",
       "166                                  shun knife guard\n",
       "169                             universal knife guard\n",
       "171                              utility knife guards\n",
       "172                            victorinox knife guard\n",
       "179                            8 inch knife protector\n",
       "188                             steak knife protector\n",
       "191                  blade cover for victorinox knife\n",
       "198              kitchen knife guards or blade covers\n",
       "205                                       blade guard\n",
       "217                            knife sleeves   guards\n",
       "226                           knife covers or sleeves\n",
       "229                        8.5 inch knife blade guard\n",
       "230                          blade guard paring knife\n",
       "231                           blade guard steak knife\n",
       "235                  chef knife blade guard nos large\n",
       "237                           chefs knife blade guard\n",
       "240                                 knife blade guard\n",
       "241                        knife blade guard 4.5 inch\n",
       "242                          knife blade guard 6 inch\n",
       "245                 kyocera ceramic knife blade guard\n",
       "246                          paring knife blade guard\n",
       "Name: Customer_Search_Term, dtype: object"
      ]
     },
     "execution_count": 8,
     "metadata": {},
     "output_type": "execute_result"
    }
   ],
   "source": [
    "df_s.loc[:, 'Customer_Search_Term']"
   ]
  },
  {
   "cell_type": "code",
   "execution_count": 9,
   "metadata": {},
   "outputs": [
    {
     "data": {
      "text/plain": [
       "0                        2 in kitchen knife sheath\n",
       "2        6.5 inch leather sheath for kitchen knife\n",
       "4                kitchen knife blade sheath sleeve\n",
       "6                      kitchen knife sheath 5 inch\n",
       "7                         kitchen knife sheath set\n",
       "8                            kitchen knife sheaths\n",
       "9                         knife sheath for kitchen\n",
       "11                           knife sheaths kitchen\n",
       "13                        sheath for kitchen knife\n",
       "14                 sheath guard for kitchen knives\n",
       "15                      sheaths for kitchen knives\n",
       "16                             10 chef knife cover\n",
       "17                 8\" chef knife covers or sleeves\n",
       "18    blade cover for 8 inch chef's knife henckels\n",
       "19                         chef knife 6 inch cover\n",
       "20                                chef knife cover\n",
       "21            chef knife cover pairing knife cover\n",
       "22                               chef knife covers\n",
       "23                    chef knife covers or sleeves\n",
       "24                           chef sac knife covers\n",
       "25                               chefs knife cover\n",
       "26                henckels 6 inch chef knife cover\n",
       "27                henckels 8 inch chef knife cover\n",
       "28                         meisen chef knife cover\n",
       "29                      blade protector for knives\n",
       "30        blade protector for mercer pairing knife\n",
       "31                      blade safe knife protector\n",
       "33                     bread knife blade protector\n",
       "34                   kitchen knife blade protector\n",
       "36                   knife blade protector 12 inch\n",
       "37                          knife blade protectors\n",
       "38      mercer curved boning knife blade protector\n",
       "39                      rada knife blade protector\n",
       "40                   serbian knife blade protector\n",
       "42                           10in knife edge guard\n",
       "43                            12” knife edge guard\n",
       "44                             6  knife edge guard\n",
       "45                             7\" knife edge guard\n",
       "47                          knife edge guard 3.5 6\n",
       "48                         knife edge guard 7 inch\n",
       "50                            knife edge guard set\n",
       "Name: Customer_Search_Term, dtype: object"
      ]
     },
     "execution_count": 9,
     "metadata": {},
     "output_type": "execute_result"
    }
   ],
   "source": [
    "df_ns.loc[:50, 'Customer_Search_Term']"
   ]
  },
  {
   "cell_type": "markdown",
   "metadata": {},
   "source": [
    "## NLTK"
   ]
  },
  {
   "cell_type": "code",
   "execution_count": 10,
   "metadata": {},
   "outputs": [],
   "source": [
    "import nltk\n",
    "from nltk.corpus import stopwords\n",
    "import string"
   ]
  },
  {
   "cell_type": "code",
   "execution_count": 11,
   "metadata": {},
   "outputs": [
    {
     "data": {
      "text/plain": [
       "['i',\n",
       " 'me',\n",
       " 'my',\n",
       " 'myself',\n",
       " 'we',\n",
       " 'our',\n",
       " 'ours',\n",
       " 'ourselves',\n",
       " 'you',\n",
       " \"you're\",\n",
       " \"you've\",\n",
       " \"you'll\",\n",
       " \"you'd\",\n",
       " 'your',\n",
       " 'yours',\n",
       " 'yourself',\n",
       " 'yourselves',\n",
       " 'he',\n",
       " 'him',\n",
       " 'his',\n",
       " 'himself',\n",
       " 'she',\n",
       " \"she's\",\n",
       " 'her',\n",
       " 'hers',\n",
       " 'herself',\n",
       " 'it',\n",
       " \"it's\",\n",
       " 'its',\n",
       " 'itself',\n",
       " 'they',\n",
       " 'them',\n",
       " 'their',\n",
       " 'theirs',\n",
       " 'themselves',\n",
       " 'what',\n",
       " 'which',\n",
       " 'who',\n",
       " 'whom',\n",
       " 'this',\n",
       " 'that',\n",
       " \"that'll\",\n",
       " 'these',\n",
       " 'those',\n",
       " 'am',\n",
       " 'is',\n",
       " 'are',\n",
       " 'was',\n",
       " 'were',\n",
       " 'be',\n",
       " 'been',\n",
       " 'being',\n",
       " 'have',\n",
       " 'has',\n",
       " 'had',\n",
       " 'having',\n",
       " 'do',\n",
       " 'does',\n",
       " 'did',\n",
       " 'doing',\n",
       " 'a',\n",
       " 'an',\n",
       " 'the',\n",
       " 'and',\n",
       " 'but',\n",
       " 'if',\n",
       " 'or',\n",
       " 'because',\n",
       " 'as',\n",
       " 'until',\n",
       " 'while',\n",
       " 'of',\n",
       " 'at',\n",
       " 'by',\n",
       " 'for',\n",
       " 'with',\n",
       " 'about',\n",
       " 'against',\n",
       " 'between',\n",
       " 'into',\n",
       " 'through',\n",
       " 'during',\n",
       " 'before',\n",
       " 'after',\n",
       " 'above',\n",
       " 'below',\n",
       " 'to',\n",
       " 'from',\n",
       " 'up',\n",
       " 'down',\n",
       " 'in',\n",
       " 'out',\n",
       " 'on',\n",
       " 'off',\n",
       " 'over',\n",
       " 'under',\n",
       " 'again',\n",
       " 'further',\n",
       " 'then',\n",
       " 'once',\n",
       " 'here',\n",
       " 'there',\n",
       " 'when',\n",
       " 'where',\n",
       " 'why',\n",
       " 'how',\n",
       " 'all',\n",
       " 'any',\n",
       " 'both',\n",
       " 'each',\n",
       " 'few',\n",
       " 'more',\n",
       " 'most',\n",
       " 'other',\n",
       " 'some',\n",
       " 'such',\n",
       " 'no',\n",
       " 'nor',\n",
       " 'not',\n",
       " 'only',\n",
       " 'own',\n",
       " 'same',\n",
       " 'so',\n",
       " 'than',\n",
       " 'too',\n",
       " 'very',\n",
       " 's',\n",
       " 't',\n",
       " 'can',\n",
       " 'will',\n",
       " 'just',\n",
       " 'don',\n",
       " \"don't\",\n",
       " 'should',\n",
       " \"should've\",\n",
       " 'now',\n",
       " 'd',\n",
       " 'll',\n",
       " 'm',\n",
       " 'o',\n",
       " 're',\n",
       " 've',\n",
       " 'y',\n",
       " 'ain',\n",
       " 'aren',\n",
       " \"aren't\",\n",
       " 'couldn',\n",
       " \"couldn't\",\n",
       " 'didn',\n",
       " \"didn't\",\n",
       " 'doesn',\n",
       " \"doesn't\",\n",
       " 'hadn',\n",
       " \"hadn't\",\n",
       " 'hasn',\n",
       " \"hasn't\",\n",
       " 'haven',\n",
       " \"haven't\",\n",
       " 'isn',\n",
       " \"isn't\",\n",
       " 'ma',\n",
       " 'mightn',\n",
       " \"mightn't\",\n",
       " 'mustn',\n",
       " \"mustn't\",\n",
       " 'needn',\n",
       " \"needn't\",\n",
       " 'shan',\n",
       " \"shan't\",\n",
       " 'shouldn',\n",
       " \"shouldn't\",\n",
       " 'wasn',\n",
       " \"wasn't\",\n",
       " 'weren',\n",
       " \"weren't\",\n",
       " 'won',\n",
       " \"won't\",\n",
       " 'wouldn',\n",
       " \"wouldn't\"]"
      ]
     },
     "execution_count": 11,
     "metadata": {},
     "output_type": "execute_result"
    }
   ],
   "source": [
    "stopwords.words('english') #I need to keep 'in'"
   ]
  },
  {
   "cell_type": "code",
   "execution_count": 12,
   "metadata": {},
   "outputs": [],
   "source": [
    "ji_sw = set(stopwords.words('english')) - {'in'}"
   ]
  },
  {
   "cell_type": "code",
   "execution_count": 13,
   "metadata": {},
   "outputs": [
    {
     "data": {
      "text/plain": [
       "{'a',\n",
       " 'about',\n",
       " 'above',\n",
       " 'after',\n",
       " 'again',\n",
       " 'against',\n",
       " 'ain',\n",
       " 'all',\n",
       " 'am',\n",
       " 'an',\n",
       " 'and',\n",
       " 'any',\n",
       " 'are',\n",
       " 'aren',\n",
       " \"aren't\",\n",
       " 'as',\n",
       " 'at',\n",
       " 'be',\n",
       " 'because',\n",
       " 'been',\n",
       " 'before',\n",
       " 'being',\n",
       " 'below',\n",
       " 'between',\n",
       " 'both',\n",
       " 'but',\n",
       " 'by',\n",
       " 'can',\n",
       " 'couldn',\n",
       " \"couldn't\",\n",
       " 'd',\n",
       " 'did',\n",
       " 'didn',\n",
       " \"didn't\",\n",
       " 'do',\n",
       " 'does',\n",
       " 'doesn',\n",
       " \"doesn't\",\n",
       " 'doing',\n",
       " 'don',\n",
       " \"don't\",\n",
       " 'down',\n",
       " 'during',\n",
       " 'each',\n",
       " 'few',\n",
       " 'for',\n",
       " 'from',\n",
       " 'further',\n",
       " 'had',\n",
       " 'hadn',\n",
       " \"hadn't\",\n",
       " 'has',\n",
       " 'hasn',\n",
       " \"hasn't\",\n",
       " 'have',\n",
       " 'haven',\n",
       " \"haven't\",\n",
       " 'having',\n",
       " 'he',\n",
       " 'her',\n",
       " 'here',\n",
       " 'hers',\n",
       " 'herself',\n",
       " 'him',\n",
       " 'himself',\n",
       " 'his',\n",
       " 'how',\n",
       " 'i',\n",
       " 'if',\n",
       " 'into',\n",
       " 'is',\n",
       " 'isn',\n",
       " \"isn't\",\n",
       " 'it',\n",
       " \"it's\",\n",
       " 'its',\n",
       " 'itself',\n",
       " 'just',\n",
       " 'll',\n",
       " 'm',\n",
       " 'ma',\n",
       " 'me',\n",
       " 'mightn',\n",
       " \"mightn't\",\n",
       " 'more',\n",
       " 'most',\n",
       " 'mustn',\n",
       " \"mustn't\",\n",
       " 'my',\n",
       " 'myself',\n",
       " 'needn',\n",
       " \"needn't\",\n",
       " 'no',\n",
       " 'nor',\n",
       " 'not',\n",
       " 'now',\n",
       " 'o',\n",
       " 'of',\n",
       " 'off',\n",
       " 'on',\n",
       " 'once',\n",
       " 'only',\n",
       " 'or',\n",
       " 'other',\n",
       " 'our',\n",
       " 'ours',\n",
       " 'ourselves',\n",
       " 'out',\n",
       " 'over',\n",
       " 'own',\n",
       " 're',\n",
       " 's',\n",
       " 'same',\n",
       " 'shan',\n",
       " \"shan't\",\n",
       " 'she',\n",
       " \"she's\",\n",
       " 'should',\n",
       " \"should've\",\n",
       " 'shouldn',\n",
       " \"shouldn't\",\n",
       " 'so',\n",
       " 'some',\n",
       " 'such',\n",
       " 't',\n",
       " 'than',\n",
       " 'that',\n",
       " \"that'll\",\n",
       " 'the',\n",
       " 'their',\n",
       " 'theirs',\n",
       " 'them',\n",
       " 'themselves',\n",
       " 'then',\n",
       " 'there',\n",
       " 'these',\n",
       " 'they',\n",
       " 'this',\n",
       " 'those',\n",
       " 'through',\n",
       " 'to',\n",
       " 'too',\n",
       " 'under',\n",
       " 'until',\n",
       " 'up',\n",
       " 've',\n",
       " 'very',\n",
       " 'was',\n",
       " 'wasn',\n",
       " \"wasn't\",\n",
       " 'we',\n",
       " 'were',\n",
       " 'weren',\n",
       " \"weren't\",\n",
       " 'what',\n",
       " 'when',\n",
       " 'where',\n",
       " 'which',\n",
       " 'while',\n",
       " 'who',\n",
       " 'whom',\n",
       " 'why',\n",
       " 'will',\n",
       " 'with',\n",
       " 'won',\n",
       " \"won't\",\n",
       " 'wouldn',\n",
       " \"wouldn't\",\n",
       " 'y',\n",
       " 'you',\n",
       " \"you'd\",\n",
       " \"you'll\",\n",
       " \"you're\",\n",
       " \"you've\",\n",
       " 'your',\n",
       " 'yours',\n",
       " 'yourself',\n",
       " 'yourselves'}"
      ]
     },
     "execution_count": 13,
     "metadata": {},
     "output_type": "execute_result"
    }
   ],
   "source": [
    "ji_sw"
   ]
  },
  {
   "cell_type": "markdown",
   "metadata": {},
   "source": [
    "Mehtods used were written by Adam Roth (that's me) and Amanda Potter in the '*NLP---Twitter-Sentiment*' project"
   ]
  },
  {
   "cell_type": "code",
   "execution_count": 14,
   "metadata": {},
   "outputs": [],
   "source": [
    "from nltk import word_tokenize\n",
    "from nltk import pos_tag\n",
    "from nltk.stem import WordNetLemmatizer\n",
    "import re"
   ]
  },
  {
   "cell_type": "code",
   "execution_count": 15,
   "metadata": {},
   "outputs": [],
   "source": [
    "from nltk.corpus import wordnet\n",
    "\n",
    "def get_wordnet_pos(pos_tag):\n",
    "    if pos_tag.startswith('J'):\n",
    "        return wordnet.ADJ\n",
    "    elif pos_tag.startswith('V'):\n",
    "        return wordnet.VERB\n",
    "    elif pos_tag.startswith('N'):\n",
    "        return wordnet.NOUN\n",
    "    elif pos_tag.startswith('R'):\n",
    "        return wordnet.ADV\n",
    "    else:\n",
    "        return wordnet.NOUN"
   ]
  },
  {
   "cell_type": "code",
   "execution_count": 16,
   "metadata": {},
   "outputs": [],
   "source": [
    "def clean_text(text):\n",
    "    # lower text\n",
    "    text = text.lower()\n",
    "    # tokenize text and remove puncutation\n",
    "    text = [word.strip(string.punctuation) for word in text.split(\" \")]\n",
    "    # remove words that contain numbers --- I might need to change this\n",
    "    #text = [word for word in text if not any(c.isdigit() for c in word)]\n",
    "    #^^^ I might wanna keep numbers\n",
    "    # remove stop words\n",
    "    text = [x for x in text if x not in ji_sw]\n",
    "    # remove empty tokens\n",
    "    text = [t for t in text if len(t) > 0]\n",
    "    # pos tag text\n",
    "    pos_tags = pos_tag(text)\n",
    "    # lemmatize text\n",
    "    text = [WordNetLemmatizer().lemmatize(t[0], get_wordnet_pos(t[1])) for t in pos_tags]\n",
    "    # remove words with only one letter\n",
    "    text = [t for t in text if len(t) > 1]\n",
    "    # join all\n",
    "    text = \" \".join(text)\n",
    "    return(text)\n"
   ]
  },
  {
   "cell_type": "markdown",
   "metadata": {},
   "source": [
    "Considering that I am trying to look at search terms rather than analyzing sentiment I might not want to 'clean' the raw text too much, but I'll keep the above methods on hand."
   ]
  },
  {
   "cell_type": "code",
   "execution_count": 17,
   "metadata": {},
   "outputs": [
    {
     "name": "stderr",
     "output_type": "stream",
     "text": [
      "/Users/adamroth/opt/anaconda3/envs/learn-env/lib/python3.6/site-packages/ipykernel_launcher.py:1: SettingWithCopyWarning: \n",
      "A value is trying to be set on a copy of a slice from a DataFrame.\n",
      "Try using .loc[row_indexer,col_indexer] = value instead\n",
      "\n",
      "See the caveats in the documentation: http://pandas.pydata.org/pandas-docs/stable/user_guide/indexing.html#returning-a-view-versus-a-copy\n",
      "  \"\"\"Entry point for launching an IPython kernel.\n"
     ]
    },
    {
     "data": {
      "text/plain": [
       "1               inch blade sheath kitchen knife\n",
       "3      clear plastic knife sheath kitchen knife\n",
       "5                          kitchen knife sheath\n",
       "10                         knife sheath kitchen\n",
       "12        sheath cover 6” kitchen utility knife\n",
       "32                  blade saver knife protector\n",
       "35                        knife blade protector\n",
       "41                   edge guard knife protector\n",
       "46                             knife edge guard\n",
       "49                             knife edge guard\n",
       "60                              5.5 knife guard\n",
       "70                             inch knife guard\n",
       "88                             chef knife guard\n",
       "91                        ergo chef knife guard\n",
       "92                      ergo fillet knife guard\n",
       "97                 global universal knife guard\n",
       "99                                  guard knife\n",
       "106                            knife edge guard\n",
       "109                                 knife guard\n",
       "112                            knife guard inch\n",
       "114                            knife guard inch\n",
       "126                             knife guard set\n",
       "132                             knife guard set\n",
       "134                       knife protector guard\n",
       "155                          messer knife guard\n",
       "159                            nosh knife guard\n",
       "160                  nosh universal knife guard\n",
       "166                            shun knife guard\n",
       "169                       universal knife guard\n",
       "171                         utility knife guard\n",
       "172                      victorinox knife guard\n",
       "179                        inch knife protector\n",
       "188                       steak knife protector\n",
       "191                blade cover victorinox knife\n",
       "198             kitchen knife guard blade cover\n",
       "205                                 blade guard\n",
       "217                          knife sleeve guard\n",
       "226                          knife cover sleeve\n",
       "229                  8.5 inch knife blade guard\n",
       "230                       blade guard par knife\n",
       "231                     blade guard steak knife\n",
       "235             chef knife blade guard no large\n",
       "237                      chef knife blade guard\n",
       "240                           knife blade guard\n",
       "241                  knife blade guard 4.5 inch\n",
       "242                      knife blade guard inch\n",
       "245           kyocera ceramic knife blade guard\n",
       "246                       par knife blade guard\n",
       "Name: Customer_Search_Term, dtype: object"
      ]
     },
     "execution_count": 17,
     "metadata": {},
     "output_type": "execute_result"
    }
   ],
   "source": [
    "df_s['Customer_Search_Term'] = df_s['Customer_Search_Term'].apply(clean_text)\n",
    "df_s['Customer_Search_Term']"
   ]
  },
  {
   "cell_type": "code",
   "execution_count": 18,
   "metadata": {},
   "outputs": [
    {
     "data": {
      "text/plain": [
       "242    knife blade guard inch\n",
       "Name: Customer_Search_Term, dtype: object"
      ]
     },
     "execution_count": 18,
     "metadata": {},
     "output_type": "execute_result"
    }
   ],
   "source": [
    "df_s['Customer_Search_Term'].sample()"
   ]
  },
  {
   "cell_type": "code",
   "execution_count": 19,
   "metadata": {},
   "outputs": [
    {
     "data": {
      "text/plain": [
       "'knife sleeve guard'"
      ]
     },
     "execution_count": 19,
     "metadata": {},
     "output_type": "execute_result"
    }
   ],
   "source": [
    "clean_text('knife sleeves   guards')"
   ]
  },
  {
   "cell_type": "code",
   "execution_count": 20,
   "metadata": {},
   "outputs": [],
   "source": [
    "from sklearn.feature_extraction.text import CountVectorizer\n",
    "\n",
    "def get_top_n_words(corpus, n=None):\n",
    "    vec = CountVectorizer().fit(corpus)\n",
    "    bag_of_words = vec.transform(corpus)\n",
    "    sum_words = bag_of_words.sum(axis=0) \n",
    "    words_freq = [(word, sum_words[0, idx]) for word, idx in vec.vocabulary_.items()]\n",
    "    words_freq =sorted(words_freq, key = lambda x: x[1], reverse=True)\n",
    "    return words_freq[:n]"
   ]
  },
  {
   "cell_type": "code",
   "execution_count": 21,
   "metadata": {},
   "outputs": [
    {
     "name": "stdout",
     "output_type": "stream",
     "text": [
      "knife 48\n",
      "guard 37\n",
      "blade 16\n",
      "inch 8\n",
      "kitchen 6\n",
      "protector 6\n",
      "sheath 5\n",
      "cover 4\n",
      "edge 4\n",
      "chef 4\n",
      "universal 3\n",
      "utility 2\n",
      "ergo 2\n",
      "set 2\n",
      "nosh 2\n",
      "victorinox 2\n",
      "steak 2\n",
      "sleeve 2\n",
      "par 2\n",
      "clear 1\n"
     ]
    }
   ],
   "source": [
    "common_words_s = get_top_n_words(df_s['Customer_Search_Term'], 20)\n",
    "for word, freq in common_words_s:\n",
    "    print(word, freq)"
   ]
  },
  {
   "cell_type": "code",
   "execution_count": 22,
   "metadata": {},
   "outputs": [
    {
     "name": "stderr",
     "output_type": "stream",
     "text": [
      "/Users/adamroth/opt/anaconda3/envs/learn-env/lib/python3.6/site-packages/ipykernel_launcher.py:1: SettingWithCopyWarning: \n",
      "A value is trying to be set on a copy of a slice from a DataFrame.\n",
      "Try using .loc[row_indexer,col_indexer] = value instead\n",
      "\n",
      "See the caveats in the documentation: http://pandas.pydata.org/pandas-docs/stable/user_guide/indexing.html#returning-a-view-versus-a-copy\n",
      "  \"\"\"Entry point for launching an IPython kernel.\n"
     ]
    },
    {
     "data": {
      "text/plain": [
       "0                    in kitchen knife sheath\n",
       "2      6.5 inch leather sheath kitchen knife\n",
       "4          kitchen knife blade sheath sleeve\n",
       "6                  kitchen knife sheath inch\n",
       "7                   kitchen knife sheath set\n",
       "                       ...                  \n",
       "238                kitchen knife blade guard\n",
       "239          kitchen knife guard blade cover\n",
       "243                    knife blade guard set\n",
       "244                        knife blade guard\n",
       "247                wusthof knife blade guard\n",
       "Name: Customer_Search_Term, Length: 200, dtype: object"
      ]
     },
     "execution_count": 22,
     "metadata": {},
     "output_type": "execute_result"
    }
   ],
   "source": [
    "df_ns['Customer_Search_Term'] = df_ns['Customer_Search_Term'].apply(lambda x: clean_text(x))\n",
    "df_ns['Customer_Search_Term']"
   ]
  },
  {
   "cell_type": "code",
   "execution_count": 23,
   "metadata": {},
   "outputs": [
    {
     "name": "stdout",
     "output_type": "stream",
     "text": [
      "knife 193\n",
      "guard 143\n",
      "blade 37\n",
      "inch 26\n",
      "protector 26\n",
      "chef 25\n",
      "cover 23\n",
      "kitchen 22\n",
      "sleeve 20\n",
      "edge 19\n",
      "mercer 13\n",
      "sheath 11\n",
      "10 7\n",
      "wusthof 7\n",
      "set 6\n",
      "in 5\n",
      "henckels 5\n",
      "12 5\n",
      "pair 4\n",
      "bread 4\n"
     ]
    }
   ],
   "source": [
    "common_words_ns = get_top_n_words(df_ns['Customer_Search_Term'], 20)\n",
    "for word, freq in common_words_ns:\n",
    "    print(word, freq)"
   ]
  },
  {
   "cell_type": "markdown",
   "metadata": {},
   "source": [
    "Word counts are cool and all but considering that the ns/no sale group is much larger than the s/sale group I might want to get the % of the time these words show up in a customer search. \n",
    "\n",
    "This will likely require a new method as I do not want to type out the same code 40 times."
   ]
  },
  {
   "cell_type": "code",
   "execution_count": 24,
   "metadata": {},
   "outputs": [],
   "source": [
    "def get_word_frequency(string = 'string', sale = True): #I don't need a default value, but I wanted one\n",
    "    \n",
    "    if sale == True:\n",
    "        filt = df_s['Customer_Search_Term'].str.contains(string, na=False)\n",
    "        percent_freq = round(filt.value_counts()[1]/len(filt), 2)\n",
    "    if sale == False:\n",
    "        filt = df_ns['Customer_Search_Term'].str.contains(string, na=False)\n",
    "        percent_freq = round(filt.value_counts()[1]/len(filt), 2)\n",
    "    return (string, percent_freq)"
   ]
  },
  {
   "cell_type": "code",
   "execution_count": 25,
   "metadata": {},
   "outputs": [
    {
     "data": {
      "text/plain": [
       "('guard', 0.77)"
      ]
     },
     "execution_count": 25,
     "metadata": {},
     "output_type": "execute_result"
    }
   ],
   "source": [
    "get_word_frequency('guard')"
   ]
  },
  {
   "cell_type": "code",
   "execution_count": 26,
   "metadata": {},
   "outputs": [
    {
     "data": {
      "text/plain": [
       "('guard', 0.72)"
      ]
     },
     "execution_count": 26,
     "metadata": {},
     "output_type": "execute_result"
    }
   ],
   "source": [
    "get_word_frequency('guard', False)"
   ]
  },
  {
   "cell_type": "code",
   "execution_count": null,
   "metadata": {},
   "outputs": [],
   "source": []
  }
 ],
 "metadata": {
  "kernelspec": {
   "display_name": "learn-env",
   "language": "python",
   "name": "learn-env"
  },
  "language_info": {
   "codemirror_mode": {
    "name": "ipython",
    "version": 3
   },
   "file_extension": ".py",
   "mimetype": "text/x-python",
   "name": "python",
   "nbconvert_exporter": "python",
   "pygments_lexer": "ipython3",
   "version": "3.6.9"
  }
 },
 "nbformat": 4,
 "nbformat_minor": 4
}
